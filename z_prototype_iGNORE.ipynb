{
 "cells": [
  {
   "attachments": {},
   "cell_type": "markdown",
   "metadata": {},
   "source": [
    "4 December 2023\n",
    "Doing a prototype with strictly defined data for both Ocado and Sainsburys."
   ]
  },
  {
   "cell_type": "code",
   "execution_count": 1,
   "metadata": {},
   "outputs": [],
   "source": [
    "import pandas as pd\n",
    "import requests\n",
    "from bs4 import BeautifulSoup\n",
    "import data_extraction\n",
    "import re\n",
    "db_extract = data_extraction.DataExtractor()\n",
    "from fuzzywuzzy import fuzz, process"
   ]
  },
  {
   "cell_type": "code",
   "execution_count": null,
   "metadata": {},
   "outputs": [],
   "source": [
    "o_df = pd.read_excel('Ocado and Sainsbury data.xlsx', sheet_name='Sheet2')\n",
    "o_df.columns = ['label', 'generic_product', 'quantity']\n",
    "o_df['generic_product'] = df['generic_product'].str.replace(' ','%20')\n",
    "ocado_common_url = 'https://www.ocado.com/search?entry='\n",
    "ocado_data = []\n",
    "for value in o_df['generic_product']:\n",
    "    url = ocado_common_url + value\n",
    "    o_new_df = db_extract.extract_ocado_info(url)\n",
    "    o_new_df['generic_product'] = value\n",
    "    ocado_data.append(o_new_df)\n",
    "    o_final_df = pd.concat(ocado_data, ignore_index=True)\n",
    "\n",
    "\n"
   ]
  },
  {
   "cell_type": "code",
   "execution_count": null,
   "metadata": {},
   "outputs": [],
   "source": [
    "clean_df = o_final_df[~o_final_df['product_names'].str.contains('M&S')]\n",
    "# clean_df['delivered_prices'] = clean_df['delivered_prices'].replace('[^0-9.]','',regex=True)\n",
    "master_df = pd.merge(df, clean_df, on='generic_product')\n",
    "master_df['generic_product'] = master_df['generic_product'].str.replace('%20',' ')\n",
    "for var in ['product_names', 'weights']:\n",
    "    master_df[var] = master_df[var].str.upper()\n",
    "master_df['product_names'] = master_df['product_names'] + ' ' + master_df['weights']\n",
    "master_df.drop('weights', axis=1, inplace=True)\n",
    "def calculate_similarity(row):\n",
    "    return fuzz.ratio(row['generic_product'], row['product_names'])\n",
    "# Apply the function to each row in the DataFrame\n",
    "master_df['similarity'] = master_df.apply(calculate_similarity, axis=1)\n",
    "\n",
    "sorted_df = master_df.sort_values(by=['generic_product', 'similarity'], ascending = False)\n",
    "sorted_df = sorted_df[~sorted_df['product_names'].str.contains('Longlife')]\n",
    "# Get the index of the maximum similarity score within each group\n",
    "max_similarity_indexes = sorted_df.groupby('generic_product')['similarity'].idxmax()\n",
    "# Retain only the rows with the maximum similarity score for each group\n",
    "ocado_df = sorted_df.loc[max_similarity_indexes]\n",
    "ocado_df.head(30)\n",
    "\n"
   ]
  },
  {
   "attachments": {},
   "cell_type": "markdown",
   "metadata": {},
   "source": [
    "Now doing the same for Sainsburys data !!!"
   ]
  },
  {
   "cell_type": "code",
   "execution_count": null,
   "metadata": {},
   "outputs": [],
   "source": [
    "\n",
    "df = pd.read_excel('Ocado and Sainsbury data.xlsx', sheet_name='Sheet2')\n",
    "df.columns = ['label', 'generic_product', 'quantity']\n",
    "df['generic_product'] = df['generic_product'].str.replace(' ','%20')\n",
    "sainsbury_common_url = 'https://www.sainsburys.co.uk/gol-ui/SearchResults/'\n",
    "sainsbury_data = []\n",
    "for value in df['generic_product']:\n",
    "    url = sainsbury_common_url + value\n",
    "    new_df = db_extract.extract_sainsbury_info(url)\n",
    "    new_df['generic_product'] = value\n",
    "    sainsbury_data.append(new_df)\n",
    "    final_df = pd.concat(sainsbury_data, ignore_index=True)\n"
   ]
  },
  {
   "cell_type": "code",
   "execution_count": null,
   "metadata": {},
   "outputs": [],
   "source": [
    "final_df.info()"
   ]
  },
  {
   "cell_type": "code",
   "execution_count": null,
   "metadata": {},
   "outputs": [],
   "source": [
    "\n",
    "clean_df = final_df[~final_df['product_names'].str.contains('Longlife')]\n",
    "#clean_df['pre_nectar_price'] = clean_df['pre_nectar_price'].replace('[^0-9.]','',regex=True)\n",
    "master_df = pd.merge(df, clean_df, on='generic_product')\n",
    "master_df['generic_product'] = master_df['generic_product'].str.replace('%20',' ')\n",
    "for var in ['product_names']:\n",
    "    master_df[var] = master_df[var].str.upper()\n",
    "\n",
    "master_df['product_names'] = master_df['product_names'].str.replace('TASTE THE DIFFERENCE','')\n",
    "\n",
    "def calculate_similarity(row):\n",
    "    return fuzz.ratio(row['generic_product'], row['product_names'])\n",
    "# Apply the function to each row in the DataFrame\n",
    "master_df['similarity'] = master_df.apply(calculate_similarity, axis=1)\n",
    "\n",
    "sorted_df = master_df.sort_values(by=['generic_product', 'similarity'], ascending = False)\n",
    "# Get the index of the maximum similarity score within each group\n",
    "max_similarity_indexes = sorted_df.groupby('generic_product')['similarity'].idxmax()\n",
    "# Retain only the rows with the maximum similarity score for each group\n",
    "sainsbury_df = sorted_df.loc[max_similarity_indexes]\n",
    "sainsbury_df.rename(columns={'product_names': 'sains_product_names'}, inplace=True)\n",
    "# sainsbury_df.head(30)\n"
   ]
  },
  {
   "cell_type": "code",
   "execution_count": null,
   "metadata": {},
   "outputs": [],
   "source": [
    "merged_df = pd.merge(ocado_df, sainsbury_df, on='generic_product')\n",
    "merged_df.drop(['label_y', 'quantity_y','similarity_x', 'similarity_y'], axis=1, inplace=True)"
   ]
  },
  {
   "cell_type": "code",
   "execution_count": null,
   "metadata": {},
   "outputs": [],
   "source": [
    "def add_hash(value):\n",
    "    if value.startswith('£'):\n",
    "        return value\n",
    "    else: \n",
    "        return '0.' + value\n",
    "\n",
    "# Apply the function to 'Column1'\n",
    "for var in ['delivered_prices', 'pre_nectar_price']:\n",
    "    merged_df[var] = merged_df[var].apply(add_hash)\n",
    "    merged_df[var] = merged_df[var].replace('[^0-9.]','',regex=True)\n",
    "    merged_df[var] = merged_df[var].astype(float)\n",
    "\n",
    "merged_df.head(50)"
   ]
  },
  {
   "cell_type": "code",
   "execution_count": null,
   "metadata": {},
   "outputs": [],
   "source": [
    "merged_df['ocado_value'] = merged_df['quantity_x'] * merged_df['delivered_prices']\n",
    "merged_df['sains_value'] = merged_df['quantity_x'] * merged_df['pre_nectar_price']\n",
    "ocado_order_value = merged_df['ocado_value'].sum()\n",
    "sains_order_value = merged_df['sains_value'].sum()\n",
    "date = '4 December 2023'\n",
    "\n",
    "print(f'Order at Ocado costs {ocado_order_value}')\n",
    "print(f'Order at Sainsbury costs {sains_order_value}')"
   ]
  },
  {
   "cell_type": "code",
   "execution_count": 95,
   "metadata": {},
   "outputs": [],
   "source": [
    "date = '4 December 2023'\n",
    "analysis_df = pd.DataFrame({\n",
    "            'ocado cost': ocado_order_value,\n",
    "            'sainsbury_pre_nectar': sains_order_value,\n",
    "            'date_recorded':  date\n",
    "            }, index=[0])\n",
    "\n",
    "analysis_df.to_csv('Master_Analysis.csv') # Place all these into an excel folder separately"
   ]
  },
  {
   "cell_type": "code",
   "execution_count": 97,
   "metadata": {},
   "outputs": [
    {
     "name": "stdout",
     "output_type": "stream",
     "text": [
      "Order at Ocado costs 57.85\n",
      "Order at Sainsbury costs 58.66\n"
     ]
    }
   ],
   "source": [
    "merged_df.head(50)\n",
    "print(f'Order at Ocado costs {ocado_order_value}')\n",
    "print(f'Order at Sainsbury costs {sains_order_value}')"
   ]
  },
  {
   "cell_type": "code",
   "execution_count": 11,
   "metadata": {},
   "outputs": [],
   "source": [
    "from selenium import webdriver\n",
    "from selenium.webdriver.common.by import By\n",
    "from selenium.webdriver.support.ui import WebDriverWait\n",
    "from selenium.webdriver.support import expected_conditions as EC\n",
    "trolley_url = 'https://www.sainsburys.co.uk/gol-ui/SearchResults/fairy%20dishwasher'\n",
    "driver = webdriver.Chrome()\n",
    "driver.get(trolley_url)\n",
    "\n"
   ]
  },
  {
   "cell_type": "code",
   "execution_count": 12,
   "metadata": {},
   "outputs": [
    {
     "name": "stdout",
     "output_type": "stream",
     "text": [
      "['£9.00with Nectar\\n£12.00£15.96 / kg', '£5.00with Nectar\\n£6.50£17.91 / kg', '£7.00with Nectar\\n£9.00£17.54 / kg', '£12.00£11.76 / kg', '£10.00£8.83 / kg', '£8.00£9.52 / kg', '£13.50£12.77 / kg', '£12.00£16.13 / kg', '£4.00£13.03 / kg', '£15.00£12.56 / kg', '£9.00£16.27 / kg', '£9.00£17.34 / kg', '£13.00£15.13 / kg', '£5.60£6.67 / kg', '£10.00with Nectar\\n£13.80£18.65 / kg', '£10.00£7.75 / kg', '£10.00with Nectar\\n£12.90£15.00 / kg', '£6.00£12.00 / kg', '£4.00£8.33 / kg', '£3.25£12.90 / kg', '£13.00£7.22 / kg', '£13.80£15.68 / kg', '£3.30£3.30 / kg', '£6.00£9.15 / kg', '£5.00£11.11 / kg', '£8.00with Nectar\\n£12.60£22.11 / kg', '£8.00£14.21 / kg', '£7.80£15.60 / kg', '£1.49£4.97 / kg', '£8.00£8.89 / kg', '£5.00with Nectar\\n£7.60£27.14 / kg', '£12.65£26.35 / kg', '£17.00£12.50 / kg', '£5.00with Nectar\\n£7.60£24.52 / kg', '£7.00£137.25 / kg', '£3.10£7.38 / kg', '£5.00with Nectar\\n£7.60£28.57 / kg', '£14.00£21.94 / kg', '£8.80£17.60 / kg', '£1.50£250.00 / ltr', '£5.00£5.75 / ltr', '£3.00with Nectar\\n£3.50£4.55 / ltr']\n"
     ]
    }
   ],
   "source": [
    "main_grid = driver.find_element(By.XPATH, value = '//ul[@class=\"ln-o-grid ln-o-grid--matrix ln-o-grid--equal-height\"]')\n",
    "main_price = main_grid.find_elements(By.XPATH, value = '//div[@class=\"pt__cost\"]')\n",
    "prices = []\n",
    "for x in range(len(main_price)):\n",
    "    price = main_price[x].text\n",
    "    prices.append(price)\n",
    "\n",
    "print(prices)"
   ]
  }
 ],
 "metadata": {
  "kernelspec": {
   "display_name": "supermarketpricing",
   "language": "python",
   "name": "python3"
  },
  "language_info": {
   "codemirror_mode": {
    "name": "ipython",
    "version": 3
   },
   "file_extension": ".py",
   "mimetype": "text/x-python",
   "name": "python",
   "nbconvert_exporter": "python",
   "pygments_lexer": "ipython3",
   "version": "3.11.5"
  },
  "orig_nbformat": 4
 },
 "nbformat": 4,
 "nbformat_minor": 2
}
